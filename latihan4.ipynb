{
 "cells": [
  {
   "cell_type": "code",
   "execution_count": 1,
   "metadata": {},
   "outputs": [
    {
     "name": "stdout",
     "output_type": "stream",
     "text": [
      "Fahrenheit to Celcius\n",
      "Fahrenheit temperature value :  212\n",
      "Celcius temperature value    :  100.0\n",
      "\n",
      "Fahrenheit to Kelvin\n",
      "Fahrenheit temperature value :  212\n"
     ]
    },
    {
     "ename": "NameError",
     "evalue": "name 'celcius_to_kelvin' is not defined",
     "output_type": "error",
     "traceback": [
      "\u001b[1;31m---------------------------------------------------------------------------\u001b[0m",
      "\u001b[1;31mNameError\u001b[0m                                 Traceback (most recent call last)",
      "Cell \u001b[1;32mIn[1], line 50\u001b[0m\n\u001b[0;32m     48\u001b[0m \u001b[39mprint\u001b[39m(\u001b[39m'\u001b[39m\u001b[39mFahrenheit to Kelvin\u001b[39m\u001b[39m'\u001b[39m)\n\u001b[0;32m     49\u001b[0m \u001b[39mprint\u001b[39m(\u001b[39m'\u001b[39m\u001b[39mFahrenheit temperature value : \u001b[39m\u001b[39m'\u001b[39m, temp)\n\u001b[1;32m---> 50\u001b[0m \u001b[39mprint\u001b[39m(\u001b[39m'\u001b[39m\u001b[39mKelvin temperature value     : \u001b[39m\u001b[39m'\u001b[39m, convert_from_fahrenheit(temp\u001b[39m=\u001b[39;49mtemp, dest\u001b[39m=\u001b[39;49mdest_2))\n\u001b[0;32m     51\u001b[0m \u001b[39mprint\u001b[39m(\u001b[39m'\u001b[39m\u001b[39m'\u001b[39m)\n\u001b[0;32m     53\u001b[0m \u001b[39mprint\u001b[39m(\u001b[39m'\u001b[39m\u001b[39mFahrenheit to Reamur\u001b[39m\u001b[39m'\u001b[39m)\n",
      "Cell \u001b[1;32mIn[1], line 29\u001b[0m, in \u001b[0;36mconvert_from_fahrenheit\u001b[1;34m(temp, dest)\u001b[0m\n\u001b[0;32m     27\u001b[0m \u001b[39melif\u001b[39;00m dest \u001b[39m==\u001b[39m \u001b[39m'\u001b[39m\u001b[39mkelvin\u001b[39m\u001b[39m'\u001b[39m:\n\u001b[0;32m     28\u001b[0m   temp \u001b[39m=\u001b[39m fahrenheit_to_celcius(temp)\n\u001b[1;32m---> 29\u001b[0m   temp \u001b[39m=\u001b[39m celcius_to_kelvin(temp)\n\u001b[0;32m     30\u001b[0m \u001b[39melse\u001b[39;00m: \n\u001b[0;32m     31\u001b[0m   temp \u001b[39m=\u001b[39m \u001b[39m'\u001b[39m\u001b[39mNone\u001b[39m\u001b[39m'\u001b[39m\n",
      "\u001b[1;31mNameError\u001b[0m: name 'celcius_to_kelvin' is not defined"
     ]
    }
   ],
   "source": [
    "# Function to Convert Fahrenheit to Celcius\n",
    "\n",
    "def fahrenheit_to_celcius(temp):\n",
    "  '''\n",
    "  This function is used to convert Fahrenheit to Celcius.\n",
    "  \n",
    "  :param `temp` : Fahrenheit's temperatue | int or float.\n",
    "  :return: `temp` : Celcius's temperature | float.\n",
    "  '''\n",
    "\n",
    "  temp = (temp - 32) / (9/5)\n",
    "\n",
    "  return temp\n",
    "# Function to Convert Temperature from Fahrenheit\n",
    "\n",
    "def convert_from_fahrenheit(temp, dest='celcius'):\n",
    "  '''\n",
    "  This function is used to convert Fahrenheit to Celcius/Kelvin.\n",
    "  \n",
    "  :param `temp` : Fahrenheit's Temperature | int or float\n",
    "  :param `dest` : Type of destination temperature (celcius or kelvin)| string\n",
    "  :return: `temp` : Celcius's/Kelvin's Temperature | float\n",
    "  '''\n",
    "\n",
    "  if dest == 'celcius':\n",
    "    temp = fahrenheit_to_celcius(temp)\n",
    "  elif dest == 'kelvin':\n",
    "    temp = fahrenheit_to_celcius(temp)\n",
    "    temp = celcius_to_kelvin(temp)\n",
    "  else: \n",
    "    temp = 'None'\n",
    "    print('Unknown value of param `dest`. Param `dest` must be `celcius` or `kelvin`')\n",
    "  \n",
    "  return temp\n",
    "\n",
    "# Trying Functions\n",
    "\n",
    "temp = 212\n",
    "dest_1 = 'celcius'\n",
    "dest_2 = 'kelvin'\n",
    "dest_3 = 'reamur'\n",
    "\n",
    "print('Fahrenheit to Celcius')\n",
    "print('Fahrenheit temperature value : ', temp)\n",
    "print('Celcius temperature value    : ', convert_from_fahrenheit(temp=temp, dest=dest_1))\n",
    "print('')\n",
    "\n",
    "print('Fahrenheit to Kelvin')\n",
    "print('Fahrenheit temperature value : ', temp)\n",
    "print('Kelvin temperature value     : ', convert_from_fahrenheit(temp=temp, dest=dest_2))\n",
    "print('')\n",
    "\n",
    "print('Fahrenheit to Reamur')\n",
    "print('Fahrenheit temperature value : ', temp)\n",
    "print('Reamur temperature value     : ', convert_from_fahrenheit(temp=temp, dest=dest_3))"
   ]
  }
 ],
 "metadata": {
  "kernelspec": {
   "display_name": "Python 3",
   "language": "python",
   "name": "python3"
  },
  "language_info": {
   "codemirror_mode": {
    "name": "ipython",
    "version": 3
   },
   "file_extension": ".py",
   "mimetype": "text/x-python",
   "name": "python",
   "nbconvert_exporter": "python",
   "pygments_lexer": "ipython3",
   "version": "3.11.1"
  },
  "orig_nbformat": 4,
  "vscode": {
   "interpreter": {
    "hash": "0457ff9518d162b024a597d4f5523b538016db233ed7f16deedf5bdaff014eea"
   }
  }
 },
 "nbformat": 4,
 "nbformat_minor": 2
}
